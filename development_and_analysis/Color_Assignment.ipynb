{
  "nbformat": 4,
  "nbformat_minor": 0,
  "metadata": {
    "colab": {
      "provenance": []
    },
    "kernelspec": {
      "name": "python3",
      "display_name": "Python 3"
    },
    "language_info": {
      "name": "python"
    }
  },
  "cells": [
    {
      "cell_type": "code",
      "execution_count": 1,
      "metadata": {
        "id": "w-YEFKH43tWt"
      },
      "outputs": [],
      "source": [
        "import cv2\n",
        "import matplotlib.pyplot as plt\n",
        "import numpy as np\n",
        "from sklearn.cluster import KMeans"
      ]
    },
    {
      "cell_type": "code",
      "source": [
        "image_path = \"../output_videos/cropped_image.jpg\"\n",
        "image = cv2.imread(image_path)\n",
        "image = cv2.cvtColor(image, cv2.COLOR_BGR2RGB)"
      ],
      "metadata": {
        "id": "1w_dS16d399H"
      },
      "execution_count": null,
      "outputs": []
    },
    {
      "cell_type": "code",
      "source": [
        "plt.imshow(image)\n",
        "plt.show()"
      ],
      "metadata": {
        "id": "BjR3OGde3-_E"
      },
      "execution_count": null,
      "outputs": []
    },
    {
      "cell_type": "markdown",
      "source": [
        "### To get the top half of the image"
      ],
      "metadata": {
        "id": "W7KGGlFc4DW9"
      }
    },
    {
      "cell_type": "code",
      "source": [
        "top_half_image=  image[0: int(image.shape[0]/2), :]\n",
        "plt.imshow(top_half_image)\n",
        "plt.show()"
      ],
      "metadata": {
        "id": "13FCmrjv4Bwb"
      },
      "execution_count": null,
      "outputs": []
    },
    {
      "cell_type": "markdown",
      "source": [
        "### Clusterring the image into two clusters"
      ],
      "metadata": {
        "id": "mYKj0wrH4LSM"
      }
    },
    {
      "cell_type": "code",
      "source": [
        "image_2d = top_half_image.reshape(-1, 3)\n",
        "\n",
        "kmeans = KMeans(n_clusters=2, random_state=0)\n",
        "kmeans.fit(image_2d)\n",
        "\n",
        "labels = kmeans.labels_\n",
        "\n",
        "clustered_image = labels.reshape(top_half_image.shape[0], top_half_image.shape[1])\n",
        "\n",
        "plt.imshow(clustered_image)\n",
        "plt.show()"
      ],
      "metadata": {
        "id": "kNMRqTry4KEp"
      },
      "execution_count": null,
      "outputs": []
    },
    {
      "cell_type": "code",
      "source": [
        "corner_clusters = [clustered_image[0, 0], clustered_image[0, -1], clustered_image[-1, 0], clustered_image[-1, -1]]\n",
        "non_player_cluster = max(set(corner_clusters), key=corner_clusters.count)\n",
        "print(non_player_cluster)"
      ],
      "metadata": {
        "id": "vsiLAuau4SVb"
      },
      "execution_count": null,
      "outputs": []
    },
    {
      "cell_type": "code",
      "source": [
        "player_cluster = 1-non_player_cluster\n",
        "print(player_cluster)"
      ],
      "metadata": {
        "id": "rZ9NzZHi4hlB"
      },
      "execution_count": null,
      "outputs": []
    },
    {
      "cell_type": "code",
      "source": [
        "kmeans.cluster_centers_[player_cluster]"
      ],
      "metadata": {
        "id": "krAhtAAA4kM0"
      },
      "execution_count": null,
      "outputs": []
    }
  ]
}